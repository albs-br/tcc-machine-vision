{
 "cells": [
  {
   "cell_type": "markdown",
   "metadata": {
    "id": "eufgAL3xy6Zm"
   },
   "source": [
    "# Train Image Similarity"
   ]
  },
  {
   "cell_type": "markdown",
   "metadata": {
    "id": "QqCQpjnQz9CI"
   },
   "source": [
    "## Mount drive etc"
   ]
  },
  {
   "cell_type": "code",
   "execution_count": 1,
   "metadata": {
    "id": "StLnj_Q_y3vy"
   },
   "outputs": [
    {
     "name": "stdout",
     "output_type": "stream",
     "text": [
      "Mon Jan 11 14:42:49 2021       \n",
      "+-----------------------------------------------------------------------------+\n",
      "| NVIDIA-SMI 441.66       Driver Version: 441.66       CUDA Version: 10.2     |\n",
      "|-------------------------------+----------------------+----------------------+\n",
      "| GPU  Name            TCC/WDDM | Bus-Id        Disp.A | Volatile Uncorr. ECC |\n",
      "| Fan  Temp  Perf  Pwr:Usage/Cap|         Memory-Usage | GPU-Util  Compute M. |\n",
      "|===============================+======================+======================|\n",
      "|   0  GeForce GTX 1650   WDDM  | 00000000:01:00.0  On |                  N/A |\n",
      "| N/A   55C    P8     3W /  N/A |   1569MiB /  4096MiB |      9%      Default |\n",
      "+-------------------------------+----------------------+----------------------+\n",
      "                                                                               \n",
      "+-----------------------------------------------------------------------------+\n",
      "| Processes:                                                       GPU Memory |\n",
      "|  GPU       PID   Type   Process name                             Usage      |\n",
      "|=============================================================================|\n",
      "|    0      2060    C+G   Insufficient Permissions                   N/A      |\n",
      "|    0      6040    C+G   ...7.0_x64__8wekyb3d8bbwe\\ScreenSketch.exe N/A      |\n",
      "|    0      7020    C+G   ...6)\\Google\\Chrome\\Application\\chrome.exe N/A      |\n",
      "|    0      7212    C+G   ...cal\\Programs\\Microsoft VS Code\\Code.exe N/A      |\n",
      "|    0      8048    C+G   Insufficient Permissions                   N/A      |\n",
      "|    0     10892    C+G   ...am Files (x86)\\DOSBox-0.74-3\\DOSBox.exe N/A      |\n",
      "|    0     13860    C+G   ....16.0_x64__8wekyb3d8bbwe\\Calculator.exe N/A      |\n",
      "|    0     16316    C+G   C:\\Windows\\explorer.exe                    N/A      |\n",
      "|    0     19216    C+G   ...dows.Cortana_cw5n1h2txyewy\\SearchUI.exe N/A      |\n",
      "|    0     22188    C+G   ...2.72.0_x64__8wekyb3d8bbwe\\YourPhone.exe N/A      |\n",
      "|    0     24476    C+G   ...osoft.LockApp_cw5n1h2txyewy\\LockApp.exe N/A      |\n",
      "|    0     27304    C+G   ...5n1h2txyewy\\StartMenuExperienceHost.exe N/A      |\n",
      "|    0     27764    C+G   ...\\2019\\Enterprise\\Common7\\IDE\\devenv.exe N/A      |\n",
      "|    0     28068    C+G   C:\\Program Files\\NordVPN\\NordVPN.exe       N/A      |\n",
      "|    0     29108    C+G   ...dows.Cortana_cw5n1h2txyewy\\SearchUI.exe N/A      |\n",
      "|    0     29480    C+G   ...R.x86\\ServiceHub.ThreadedWaitDialog.exe N/A      |\n",
      "|    0     30380      C   C:\\Users\\albs_\\miniconda3\\python.exe       N/A      |\n",
      "|    0     32612    C+G   ...t_cw5n1h2txyewy\\ShellExperienceHost.exe N/A      |\n",
      "|    0     33508    C+G   ...x64__8wekyb3d8bbwe\\Microsoft.Photos.exe N/A      |\n",
      "+-----------------------------------------------------------------------------+\n",
      "WARNING: infoROM is corrupted at gpu 0000:01:00.0\n"
     ]
    }
   ],
   "source": [
    "!nvidia-smi"
   ]
  },
  {
   "cell_type": "markdown",
   "metadata": {
    "id": "_8hofRqTz-5J"
   },
   "source": [
    "## Run the Training Script"
   ]
  },
  {
   "cell_type": "code",
   "execution_count": 2,
   "metadata": {
    "id": "bKUAY2Z790q_"
   },
   "outputs": [],
   "source": [
    "import torch\n",
    "torch.cuda.empty_cache()\n",
    "    \n",
    "from PIL import Image\n",
    "import os\n",
    "from tqdm import tqdm\n",
    "from torch.utils.data import Dataset\n",
    "\n",
    "import torchvision.transforms as T\n",
    "from tqdm import tqdm\n",
    "import torch.nn as nn\n",
    "import torch.optim as optim\n"
   ]
  },
  {
   "cell_type": "code",
   "execution_count": 3,
   "metadata": {
    "id": "Vt3SI_V69yuG"
   },
   "outputs": [],
   "source": [
    "class FolderDataset(Dataset):\n",
    "    def __init__(self, main_dir, transform=None):\n",
    "        self.main_dir = main_dir\n",
    "        self.transform = transform\n",
    "        self.all_imgs = os.listdir(main_dir)\n",
    "\n",
    "    def __len__(self):\n",
    "        return len(self.all_imgs)\n",
    "\n",
    "    def __getitem__(self, idx):\n",
    "        img_loc = os.path.join(self.main_dir, self.all_imgs[idx])\n",
    "        image = Image.open(img_loc).convert(\"RGB\")\n",
    "\n",
    "        if self.transform is not None:\n",
    "            tensor_image = self.transform(image)\n",
    "\n",
    "        return tensor_image, tensor_image\n"
   ]
  },
  {
   "cell_type": "code",
   "execution_count": 4,
   "metadata": {
    "id": "TfTyqEPL9ttJ"
   },
   "outputs": [],
   "source": [
    "\n",
    "class ConvEncoder(nn.Module):\n",
    "    def __init__(self):\n",
    "        super().__init__()\n",
    "        # self.img_size = img_size\n",
    "        self.conv1 = nn.Conv2d(3, 16, (3, 3), padding=(1, 1))\n",
    "        self.relu1 = nn.ReLU(inplace=True)\n",
    "        self.maxpool1 = nn.MaxPool2d((2, 2))\n",
    "\n",
    "        self.conv2 = nn.Conv2d(16, 32, (3, 3), padding=(1, 1))\n",
    "        self.relu2 = nn.ReLU(inplace=True)\n",
    "        self.maxpool2 = nn.MaxPool2d((2, 2))\n",
    "\n",
    "        self.conv3 = nn.Conv2d(32, 64, (3, 3), padding=(1, 1))\n",
    "        self.relu3 = nn.ReLU(inplace=True)\n",
    "        self.maxpool3 = nn.MaxPool2d((2, 2))\n",
    "\n",
    "    def forward(self, x):\n",
    "        # Downscale the image with conv maxpool etc.\n",
    "        # print(x.shape)\n",
    "        x = self.conv1(x)\n",
    "        x = self.relu1(x)\n",
    "        x = self.maxpool1(x)\n",
    "\n",
    "        # print(x.shape)\n",
    "\n",
    "        x = self.conv2(x)\n",
    "        x = self.relu2(x)\n",
    "        x = self.maxpool2(x)\n",
    "\n",
    "        # print(x.shape)\n",
    "\n",
    "        x = self.conv3(x)\n",
    "        x = self.relu3(x)\n",
    "        x = self.maxpool3(x)\n",
    "\n",
    "        # print(x.shape)\n",
    "        return x\n",
    "\n",
    "\n",
    "class ConvDecoder(nn.Module):\n",
    "    def __init__(self):\n",
    "        super().__init__()\n",
    "        self.deconv1 = nn.ConvTranspose2d(64, 32, (2, 2), stride=(2, 2))\n",
    "        # self.upsamp1 = nn.UpsamplingBilinear2d(2)\n",
    "        self.relu1 = nn.ReLU(inplace=True)\n",
    "\n",
    "        self.deconv2 = nn.ConvTranspose2d(32, 16, (2, 2), stride=(2, 2))\n",
    "#         self.upsamp1 = nn.UpsamplingBilinear2d(2)\n",
    "        self.relu2 = nn.ReLU(inplace=True)\n",
    "\n",
    "        self.deconv3 = nn.ConvTranspose2d(16, 3, (2, 2), stride=(2, 2))\n",
    "#         self.upsamp1 = nn.UpsamplingBilinear2d(2)\n",
    "        self.relu3 = nn.ReLU(inplace=True)\n",
    "\n",
    "    def forward(self, x):\n",
    "        # print(x.shape)\n",
    "        x = self.deconv1(x)\n",
    "        x = self.relu1(x)\n",
    "        # print(x.shape)\n",
    "\n",
    "        x = self.deconv2(x)\n",
    "        x = self.relu2(x)\n",
    "        # print(x.shape)\n",
    "\n",
    "        x = self.deconv3(x)\n",
    "        x = self.relu3(x)\n",
    "        # print(x.shape)\n",
    "        return x\n"
   ]
  },
  {
   "cell_type": "code",
   "execution_count": 5,
   "metadata": {
    "id": "IjLkAZy49Z7v"
   },
   "outputs": [],
   "source": [
    "# IMG_PATH = \"../input/animals-data/dataset/\"\n",
    "IMG_PATH = \"C:/TCC_ForaDoOneDrive/CNRPark-Patches-150x150/A/Imagens Selecionadas 512x512/\"\n",
    "IMG_HEIGHT = 512  # The images are already resized here\n",
    "IMG_WIDTH = 512  # The images are already resized here\n",
    "\n",
    "# redimensiona a imagem\n",
    "# img = cv2.resize(\n",
    "# img, (160, 160), interpolation=cv2.INTER_CUBIC)\n",
    "\n",
    "\n",
    "SEED = 42\n",
    "TRAIN_RATIO = 0.75\n",
    "VAL_RATIO = 1 - TRAIN_RATIO\n",
    "SHUFFLE_BUFFER_SIZE = 100\n",
    "\n",
    "LEARNING_RATE = 1e-3\n",
    "EPOCHS = 2\n",
    "TRAIN_BATCH_SIZE = 32  # Let's see, I don't have GPU, Google Colab is best hope\n",
    "TEST_BATCH_SIZE = 32  # Let's see, I don't have GPU, Google Colab is best hope\n",
    "FULL_BATCH_SIZE = 32\n",
    "\n",
    "AUTOENCODER_MODEL_PATH = \"baseline_autoencoder.pt\"\n",
    "\n",
    "# ENCODER_MODEL_PATH = \"deep_encoder.pt\"\n",
    "# DECODER_MODEL_PATH = \"deep_decoder.pt\"\n",
    "\n",
    "ENCODER_MODEL_PATH = \"baseline_encoder.pt\"\n",
    "DECODER_MODEL_PATH = \"baseline_decoder.pt\"\n",
    "\n",
    "\n",
    "EMBEDDING_SHAPE = (1, 64, 64, 64)\n",
    "# TEST_RATIO = 0.2\n"
   ]
  },
  {
   "cell_type": "code",
   "execution_count": 6,
   "metadata": {
    "id": "Vn7OetpD4gjZ"
   },
   "outputs": [],
   "source": [
    "\"\"\"\n",
    "I can write this if we need custom training loop etc.\n",
    "I usually use this in PyTorch.\n",
    "\"\"\"\n",
    "\n",
    "__all__ = [\"train_step\", \"val_step\", \"create_embedding\"]\n",
    "\n",
    "import torch\n",
    "import torch.nn as nn\n",
    "\n",
    "# device = torch.device(\"cuda\" if torch.cuda.is_available() else \"cpu\")\n",
    "\n",
    "\n",
    "def train_step(encoder, decoder, train_loader, loss_fn, optimizer, device):\n",
    "    # device = \"cuda\"\n",
    "    encoder.train()\n",
    "    decoder.train()\n",
    "\n",
    "    # print(device)\n",
    "\n",
    "    for batch_idx, (train_img, target_img) in enumerate(train_loader):\n",
    "        train_img = train_img.to(device)\n",
    "        target_img = target_img.to(device)\n",
    "\n",
    "        optimizer.zero_grad()\n",
    "\n",
    "        enc_output = encoder(train_img)\n",
    "        dec_output = decoder(enc_output)\n",
    "\n",
    "        loss = loss_fn(dec_output, target_img)\n",
    "        loss.backward()\n",
    "\n",
    "        optimizer.step()\n",
    "\n",
    "    return loss.item()\n",
    "\n",
    "\n",
    "def val_step(encoder, decoder, val_loader, loss_fn, device):\n",
    "    encoder.eval()\n",
    "    decoder.eval()\n",
    "\n",
    "    with torch.no_grad():\n",
    "        for batch_idx, (train_img, target_img) in enumerate(val_loader):\n",
    "            train_img = train_img.to(device)\n",
    "            target_img = target_img.to(device)\n",
    "\n",
    "            enc_output = encoder(train_img)\n",
    "            dec_output = decoder(enc_output)\n",
    "\n",
    "            loss = loss_fn(dec_output, target_img)\n",
    "\n",
    "    return loss.item()"
   ]
  },
  {
   "cell_type": "code",
   "execution_count": 7,
   "metadata": {
    "id": "DXPDCa8a9R3c"
   },
   "outputs": [
    {
     "name": "stdout",
     "output_type": "stream",
     "text": [
      "------------ Creating Dataset ------------\n",
      "------------ Dataset Created ------------\n",
      "------------ Creating DataLoader ------------\n"
     ]
    }
   ],
   "source": [
    "# if torch.cuda.is_available():\n",
    "#     device = \"cuda\"\n",
    "# else:\n",
    "#     device = \"cpu\"\n",
    "\n",
    "device = \"cpu\"\n",
    "\n",
    "# print(\"Setting Seed for the run, seed = {}\".format(config.SEED))\n",
    "\n",
    "# seed_everything(config.SEED)\n",
    "\n",
    "transforms = T.Compose([T.ToTensor()])\n",
    "print(\"------------ Creating Dataset ------------\")\n",
    "full_dataset = FolderDataset(IMG_PATH, transforms)\n",
    "\n",
    "train_size = int(TRAIN_RATIO * len(full_dataset))\n",
    "val_size = len(full_dataset) - train_size\n",
    "\n",
    "train_dataset, val_dataset = torch.utils.data.random_split(\n",
    "    full_dataset, [train_size, val_size]\n",
    ")\n",
    "\n",
    "print(\"------------ Dataset Created ------------\")\n",
    "print(\"------------ Creating DataLoader ------------\")\n",
    "train_loader = torch.utils.data.DataLoader(\n",
    "    train_dataset, batch_size=TRAIN_BATCH_SIZE, shuffle=True, drop_last=True\n",
    ")\n",
    "val_loader = torch.utils.data.DataLoader(\n",
    "    val_dataset, batch_size=TEST_BATCH_SIZE\n",
    ")\n",
    "\n",
    "full_loader = torch.utils.data.DataLoader(\n",
    "    full_dataset, batch_size=FULL_BATCH_SIZE\n",
    ")"
   ]
  },
  {
   "cell_type": "code",
   "execution_count": 8,
   "metadata": {},
   "outputs": [
    {
     "name": "stderr",
     "output_type": "stream",
     "text": [
      "\r",
      "  0%|                                                                                            | 0/2 [00:00<?, ?it/s]"
     ]
    },
    {
     "name": "stdout",
     "output_type": "stream",
     "text": [
      "------------ Dataloader Cretead ------------\n",
      "GPU Availaible moving models to GPU\n",
      "------------ Training started ------------\n",
      "Epochs = 0, Training Loss : 0.22061045467853546\n"
     ]
    },
    {
     "name": "stderr",
     "output_type": "stream",
     "text": [
      "\r",
      " 50%|██████████████████████████████████████████                                          | 1/2 [00:07<00:07,  7.08s/it]"
     ]
    },
    {
     "name": "stdout",
     "output_type": "stream",
     "text": [
      "Validation Loss decreased, saving new best model\n",
      "Epochs = 0, Validation Loss : 0.1641920655965805\n",
      "Epochs = 1, Training Loss : 0.2257511019706726\n"
     ]
    },
    {
     "name": "stderr",
     "output_type": "stream",
     "text": [
      "100%|████████████████████████████████████████████████████████████████████████████████████| 2/2 [00:14<00:00,  7.06s/it]"
     ]
    },
    {
     "name": "stdout",
     "output_type": "stream",
     "text": [
      "Validation Loss decreased, saving new best model\n",
      "Epochs = 1, Validation Loss : 0.1634400635957718\n",
      "Training Done\n"
     ]
    },
    {
     "name": "stderr",
     "output_type": "stream",
     "text": [
      "\n"
     ]
    }
   ],
   "source": [
    "print(\"------------ Dataloader Cretead ------------\")\n",
    "\n",
    "# print(train_loader)\n",
    "loss_fn = nn.MSELoss()\n",
    "\n",
    "encoder = ConvEncoder()\n",
    "decoder = ConvDecoder()\n",
    "\n",
    "if torch.cuda.is_available():\n",
    "    print(\"GPU Availaible moving models to GPU\")\n",
    "else:\n",
    "    print(\"Moving models to CPU\")\n",
    "\n",
    "encoder.to(device)\n",
    "decoder.to(device)\n",
    "\n",
    "# print(device)\n",
    "\n",
    "autoencoder_params = list(encoder.parameters()) + list(decoder.parameters())\n",
    "optimizer = optim.AdamW(autoencoder_params, lr=LEARNING_RATE)\n",
    "\n",
    "# early_stopper = utils.EarlyStopping(patience=5, verbose=True, path=)\n",
    "max_loss = 9999\n",
    "\n",
    "print(\"------------ Training started ------------\")\n",
    "\n",
    "for epoch in tqdm(range(EPOCHS)):\n",
    "    train_loss = train_step(\n",
    "        encoder, decoder, train_loader, loss_fn, optimizer, device=device\n",
    "    )\n",
    "    print(f\"Epochs = {epoch}, Training Loss : {train_loss}\")\n",
    "    val_loss = val_step(\n",
    "        encoder, decoder, val_loader, loss_fn, device=device\n",
    "    )\n",
    "\n",
    "    # Simple Best Model saving\n",
    "    if val_loss < max_loss:\n",
    "        print(\"Validation Loss decreased, saving new best model\")\n",
    "        torch.save(encoder.state_dict(), ENCODER_MODEL_PATH)\n",
    "        torch.save(decoder.state_dict(), DECODER_MODEL_PATH)\n",
    "\n",
    "    print(f\"Epochs = {epoch}, Validation Loss : {val_loss}\")\n",
    "\n",
    "print(\"Training Done\")"
   ]
  },
  {
   "cell_type": "code",
   "execution_count": 9,
   "metadata": {},
   "outputs": [],
   "source": [
    "embedding_dim = (1, 64, 64, 64)"
   ]
  },
  {
   "cell_type": "code",
   "execution_count": 10,
   "metadata": {},
   "outputs": [],
   "source": [
    "def create_embedding(encoder, full_loader, embedding_dim, device):\n",
    "    encoder.eval()\n",
    "    embedding = torch.randn(embedding_dim)\n",
    "    # print(embedding.shape)\n",
    "\n",
    "    with torch.no_grad():\n",
    "        for batch_idx, (train_img, target_img) in enumerate(full_loader):\n",
    "            train_img = train_img.to(device)\n",
    "            enc_output = encoder(train_img).cpu()\n",
    "            # print(enc_output.shape)\n",
    "            embedding = torch.cat((embedding, enc_output), 0)\n",
    "            # print(embedding.shape)\n",
    "    \n",
    "    return embedding\n"
   ]
  },
  {
   "cell_type": "code",
   "execution_count": 11,
   "metadata": {},
   "outputs": [],
   "source": [
    "embedding = create_embedding(encoder, full_loader, embedding_dim, device)"
   ]
  },
  {
   "cell_type": "code",
   "execution_count": 12,
   "metadata": {},
   "outputs": [
    {
     "name": "stdout",
     "output_type": "stream",
     "text": [
      "torch.Size([82, 64, 64, 64])\n"
     ]
    }
   ],
   "source": [
    "print(embedding.shape)"
   ]
  },
  {
   "cell_type": "code",
   "execution_count": 13,
   "metadata": {},
   "outputs": [],
   "source": [
    "# embedding2 = embedding[4700:, :, :, ]"
   ]
  },
  {
   "cell_type": "code",
   "execution_count": 14,
   "metadata": {},
   "outputs": [],
   "source": [
    "# print(embedding2.shape)"
   ]
  },
  {
   "cell_type": "code",
   "execution_count": 15,
   "metadata": {},
   "outputs": [],
   "source": [
    "numpy_embedding = embedding.cpu().detach().numpy()"
   ]
  },
  {
   "cell_type": "code",
   "execution_count": 16,
   "metadata": {},
   "outputs": [],
   "source": [
    "# numpy_embedding = embedding2.cpu().detach().numpy()"
   ]
  },
  {
   "cell_type": "code",
   "execution_count": 17,
   "metadata": {},
   "outputs": [
    {
     "name": "stdout",
     "output_type": "stream",
     "text": [
      "(82, 64, 64, 64)\n"
     ]
    }
   ],
   "source": [
    "print(numpy_embedding.shape)"
   ]
  },
  {
   "cell_type": "code",
   "execution_count": 18,
   "metadata": {},
   "outputs": [],
   "source": [
    "num_images = numpy_embedding.shape[0]\n",
    "# print(num_images)"
   ]
  },
  {
   "cell_type": "code",
   "execution_count": 19,
   "metadata": {},
   "outputs": [],
   "source": [
    "flattened_embedding = numpy_embedding.reshape((num_images, -1))"
   ]
  },
  {
   "cell_type": "code",
   "execution_count": 20,
   "metadata": {},
   "outputs": [
    {
     "name": "stdout",
     "output_type": "stream",
     "text": [
      "(82, 262144)\n"
     ]
    }
   ],
   "source": [
    "print(flattened_embedding.shape)"
   ]
  },
  {
   "cell_type": "code",
   "execution_count": 21,
   "metadata": {},
   "outputs": [],
   "source": [
    "import numpy as np"
   ]
  },
  {
   "cell_type": "code",
   "execution_count": 22,
   "metadata": {},
   "outputs": [],
   "source": [
    "np.save(\"data_embedding_f.npy\", flattened_embedding)"
   ]
  },
  {
   "cell_type": "code",
   "execution_count": 23,
   "metadata": {},
   "outputs": [],
   "source": [
    "# np.save(\"../input/animals-data/data_embedding.npy\", flattened_embedding)"
   ]
  },
  {
   "cell_type": "code",
   "execution_count": 24,
   "metadata": {},
   "outputs": [],
   "source": [
    "#flattend_embedding_reloaded = np.load(\"data_embedding.npy\")\n",
    "flattend_embedding_reloaded = np.load(\"data_embedding_f.npy\")\n"
   ]
  },
  {
   "cell_type": "code",
   "execution_count": 25,
   "metadata": {},
   "outputs": [],
   "source": [
    "# encoder.eval()\n",
    "# embedding = torch.randn(embedding_dim)\n",
    "# print(embedding.shape)\n",
    "\n",
    "# with torch.no_grad():\n",
    "#     for batch_idx, (train_img, target_img) in enumerate(full_loader):\n",
    "#         train_img = train_img.to(device)\n",
    "# #         print(train_img.shape)\n",
    "        \n",
    "#         enc_output = encoder(train_img).cpu()\n",
    "#         print(enc_output.shape)\n",
    "\n",
    "#         embedding = torch.cat((embedding, enc_output), 0)\n",
    "#         print(embedding.shape)\n",
    "\n",
    "\n",
    "# #         break\n"
   ]
  },
  {
   "cell_type": "code",
   "execution_count": null,
   "metadata": {},
   "outputs": [],
   "source": []
  },
  {
   "cell_type": "code",
   "execution_count": null,
   "metadata": {},
   "outputs": [],
   "source": []
  }
 ],
 "metadata": {
  "kernelspec": {
   "display_name": "Python 3",
   "language": "python",
   "name": "python3"
  },
  "language_info": {
   "codemirror_mode": {
    "name": "ipython",
    "version": 3
   },
   "file_extension": ".py",
   "mimetype": "text/x-python",
   "name": "python",
   "nbconvert_exporter": "python",
   "pygments_lexer": "ipython3",
   "version": "3.8.5"
  }
 },
 "nbformat": 4,
 "nbformat_minor": 4
}
